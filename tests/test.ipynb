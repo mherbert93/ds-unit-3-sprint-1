{
 "cells": [
  {
   "cell_type": "code",
   "execution_count": 4,
   "metadata": {
    "collapsed": true
   },
   "outputs": [
    {
     "name": "stdout",
     "output_type": "stream",
     "text": [
      "   prices  feature1  feature2\n",
      "0     225         5        35\n",
      "1     250         6        37\n",
      "2     235         5        35\n",
      "3     500        10        60\n",
      "4     600        12        65\n",
      "Baseline MAE is: 150.4\n"
     ]
    }
   ],
   "source": [
    "from lambdata_mherbert93 import mae_baseline\n",
    "import pandas\n",
    "\n",
    "df = pandas.DataFrame({\"prices\": [225, 250, 235, 500, 600], \"feature1\": [5, 6, 5, 10, 12], \"feature2\": [35, 37, 35, 60, 65]})\n",
    "\n",
    "print(df.head())\n",
    "print(mae_baseline(df, 'prices'))"
   ]
  },
  {
   "cell_type": "code",
   "execution_count": null,
   "outputs": [],
   "source": [
    "\n"
   ],
   "metadata": {
    "collapsed": false,
    "pycharm": {
     "name": "#%%\n"
    }
   }
  }
 ],
 "metadata": {
  "kernelspec": {
   "display_name": "Python 3",
   "language": "python",
   "name": "python3"
  },
  "language_info": {
   "codemirror_mode": {
    "name": "ipython",
    "version": 2
   },
   "file_extension": ".py",
   "mimetype": "text/x-python",
   "name": "python",
   "nbconvert_exporter": "python",
   "pygments_lexer": "ipython2",
   "version": "2.7.6"
  }
 },
 "nbformat": 4,
 "nbformat_minor": 0
}